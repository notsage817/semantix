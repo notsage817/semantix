{
 "cells": [
  {
   "cell_type": "code",
   "execution_count": null,
   "id": "8d764b07",
   "metadata": {},
   "outputs": [],
   "source": [
    "import os\n",
    "import json\n",
    "from elasticsearch import Elasticsearch\n",
    "\n",
    "failed_files = []\n",
    "es = Elasticsearch(\"http://localhost:9200\")\n",
    "for root, _, files in os.walk(\"/home/hjx/elasticSearch/data/embedding_json\"):\n",
    "    for filename in files:\n",
    "        filepath = os.path.join(root, filename)\n",
    "        try:\n",
    "            with open(filepath, \"r\", encoding=\"utf-8\") as f:\n",
    "                data = json.load(f)\n",
    "                es.index(index=\"jobs-json-embedding\", document=data)\n",
    "            pass\n",
    "        except Exception as e:\n",
    "            print(f\"Failed to index {filepath}: {e}\")\n",
    "            failed_files.append(filepath)"
   ]
  },
  {
   "cell_type": "code",
   "execution_count": null,
   "id": "74724863",
   "metadata": {},
   "outputs": [],
   "source": [
    "print(\"Failed files:\")\n",
    "for f in failed_files:\n",
    "    with open(filepath, \"r\", encoding=\"utf-8\") as f:\n",
    "        data = json.load(f)\n",
    "        print(data['qwen3_embedding'])"
   ]
  }
 ],
 "metadata": {
  "language_info": {
   "name": "python"
  }
 },
 "nbformat": 4,
 "nbformat_minor": 5
}
